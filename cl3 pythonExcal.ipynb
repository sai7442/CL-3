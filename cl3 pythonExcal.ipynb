{
 "cells": [
  {
   "cell_type": "code",
   "execution_count": 1,
   "id": "3aeb9de5",
   "metadata": {},
   "outputs": [],
   "source": [
    "import pandas as pd\n"
   ]
  },
  {
   "cell_type": "code",
   "execution_count": 7,
   "id": "66269024",
   "metadata": {},
   "outputs": [],
   "source": [
    "file_path = 'Student_scores.xlsx'\n",
    "df = pd.read_excel(r'C:\\Users\\dawar\\OneDrive\\Desktop\\jupyterproject\\student_scores.xlsx')\n"
   ]
  },
  {
   "cell_type": "code",
   "execution_count": 8,
   "id": "f70db126",
   "metadata": {},
   "outputs": [],
   "source": [
    "df['Total'] = df[['Math', 'English', 'Science']].sum(axis=1)\n",
    "df['Percentage'] = (df['Total'] / 3).round(2)  # Assuming 3 subjects\n"
   ]
  },
  {
   "cell_type": "code",
   "execution_count": 9,
   "id": "361825bf",
   "metadata": {},
   "outputs": [
    {
     "name": "stdout",
     "output_type": "stream",
     "text": [
      "       Name  Math  English  Science  Total  Percentage\n",
      "0  Student1    85       90       88    263       87.67\n",
      "1  Student2    78       85       92    255       85.00\n",
      "2  Student3    92       88       78    258       86.00\n",
      "3  Student4    89       94       87    270       90.00\n",
      "4  Student5    76       82       90    248       82.67\n"
     ]
    }
   ],
   "source": [
    "print(df[['Name', 'Math', 'English', 'Science', 'Total', 'Percentage']])\n"
   ]
  },
  {
   "cell_type": "code",
   "execution_count": 10,
   "id": "e4cf00d1",
   "metadata": {},
   "outputs": [],
   "source": [
    "output_file = 'marksheet.xlsx'\n",
    "df.to_excel(output_file, index=False)\n"
   ]
  },
  {
   "cell_type": "code",
   "execution_count": 14,
   "id": "c885cb77",
   "metadata": {},
   "outputs": [
    {
     "name": "stdout",
     "output_type": "stream",
     "text": [
      "Initial DataFrame:\n",
      "       Name  Math  English  Science\n",
      "0  Student1    85       90       88\n",
      "1  Student2    78       85       92\n",
      "2  Student3    92       88       78\n",
      "3  Student4    89       94       87\n",
      "4  Student5    76       82       90\n"
     ]
    }
   ],
   "source": [
    "excel_file = \"Student_scores.xlsx\"\n",
    "df = pd.read_excel(r'C:\\Users\\dawar\\OneDrive\\Desktop\\jupyterproject\\student_scores.xlsx')\n",
    "\n",
    "print(\"Initial DataFrame:\")\n",
    "print(df)\n",
    "\n",
    "\n",
    "df['Total'] = df.iloc[:, 1:].sum(axis=1)\n",
    "df['Average'] = df.iloc[:, 1:].mean(axis=1)\n"
   ]
  },
  {
   "cell_type": "code",
   "execution_count": 21,
   "id": "c6bbb83c",
   "metadata": {},
   "outputs": [
    {
     "name": "stdout",
     "output_type": "stream",
     "text": [
      "Original DataFrame:\n",
      "       Name  Math  English  Science\n",
      "0  Student1    85       90       88\n",
      "1  Student2    78       85       92\n",
      "2  Student3    92       88       78\n",
      "3  Student4    89       94       87\n",
      "4  Student5    76       82       90\n",
      "\n",
      "Separated Columns:\n",
      "Name Column:\n",
      "0    Student1\n",
      "1    Student2\n",
      "2    Student3\n",
      "3    Student4\n",
      "4    Student5\n",
      "Name: Name, dtype: object\n",
      "\n",
      "Math Column:\n",
      "0    85\n",
      "1    78\n",
      "2    92\n",
      "3    89\n",
      "4    76\n",
      "Name: Math, dtype: int64\n",
      "\n",
      "English Column:\n",
      "0    90\n",
      "1    85\n",
      "2    88\n",
      "3    94\n",
      "4    82\n",
      "Name: English, dtype: int64\n",
      "\n",
      "Science Column:\n",
      "0    88\n",
      "1    92\n",
      "2    78\n",
      "3    87\n",
      "4    90\n",
      "Name: Science, dtype: int64\n"
     ]
    }
   ],
   "source": [
    "file_path = 'student_scores.xlsx'\n",
    "df = pd.read_excel(r'C:\\Users\\dawar\\OneDrive\\Desktop\\jupyterproject\\student_scores.xlsx')\n",
    "print(\"Original DataFrame:\")\n",
    "print(df)\n",
    "name_column = df['Name']\n",
    "math_column = df['Math']\n",
    "english_column = df['English']\n",
    "science_column = df['Science']\n",
    "print(\"\\nSeparated Columns:\")\n",
    "print(\"Name Column:\")\n",
    "print(name_column)\n",
    "print(\"\\nMath Column:\")\n",
    "print(math_column)\n",
    "print(\"\\nEnglish Column:\")\n",
    "print(english_column)\n",
    "print(\"\\nScience Column:\")\n",
    "print(science_column)\n"
   ]
  },
  {
   "cell_type": "code",
   "execution_count": 36,
   "id": "90f2346d",
   "metadata": {},
   "outputs": [
    {
     "data": {
      "text/html": [
       "<div>\n",
       "<style scoped>\n",
       "    .dataframe tbody tr th:only-of-type {\n",
       "        vertical-align: middle;\n",
       "    }\n",
       "\n",
       "    .dataframe tbody tr th {\n",
       "        vertical-align: top;\n",
       "    }\n",
       "\n",
       "    .dataframe thead th {\n",
       "        text-align: right;\n",
       "    }\n",
       "</style>\n",
       "<table border=\"1\" class=\"dataframe\">\n",
       "  <thead>\n",
       "    <tr style=\"text-align: right;\">\n",
       "      <th></th>\n",
       "      <th>Name</th>\n",
       "      <th>Math</th>\n",
       "      <th>English</th>\n",
       "      <th>Science</th>\n",
       "    </tr>\n",
       "  </thead>\n",
       "  <tbody>\n",
       "    <tr>\n",
       "      <th>0</th>\n",
       "      <td>Student1</td>\n",
       "      <td>85</td>\n",
       "      <td>90</td>\n",
       "      <td>88</td>\n",
       "    </tr>\n",
       "    <tr>\n",
       "      <th>1</th>\n",
       "      <td>Student2</td>\n",
       "      <td>78</td>\n",
       "      <td>85</td>\n",
       "      <td>92</td>\n",
       "    </tr>\n",
       "    <tr>\n",
       "      <th>2</th>\n",
       "      <td>Student3</td>\n",
       "      <td>92</td>\n",
       "      <td>88</td>\n",
       "      <td>78</td>\n",
       "    </tr>\n",
       "    <tr>\n",
       "      <th>3</th>\n",
       "      <td>Student4</td>\n",
       "      <td>89</td>\n",
       "      <td>94</td>\n",
       "      <td>87</td>\n",
       "    </tr>\n",
       "    <tr>\n",
       "      <th>4</th>\n",
       "      <td>Student5</td>\n",
       "      <td>76</td>\n",
       "      <td>82</td>\n",
       "      <td>90</td>\n",
       "    </tr>\n",
       "  </tbody>\n",
       "</table>\n",
       "</div>"
      ],
      "text/plain": [
       "       Name  Math  English  Science\n",
       "0  Student1    85       90       88\n",
       "1  Student2    78       85       92\n",
       "2  Student3    92       88       78\n",
       "3  Student4    89       94       87\n",
       "4  Student5    76       82       90"
      ]
     },
     "execution_count": 36,
     "metadata": {},
     "output_type": "execute_result"
    }
   ],
   "source": [
    "pd.read_excel(\"Student_scores.xlsx\")"
   ]
  },
  {
   "cell_type": "code",
   "execution_count": 1,
   "id": "5cc08a9e",
   "metadata": {},
   "outputs": [
    {
     "name": "stdout",
     "output_type": "stream",
     "text": [
      "Current Data:\n",
      "       Name  Math  English  Science\n",
      "0  Student1    85       90       88\n",
      "1  Student2    78       85       92\n",
      "2  Student3    92       88       78\n",
      "3  Student4    89       94       87\n",
      "4  Student5    76       82       90\n",
      "5    parvez    92       95       98\n",
      "6   charwak    90       80       95\n",
      "Enter student's name (or 'q' to quit): Abhi\n",
      "Enter Math score for Abhi: 85\n",
      "Enter English score for Abhi: 95\n",
      "Enter Science score for Abhi: 75\n",
      "\n",
      "Updated Data:\n",
      "       Name  Math  English  Science\n",
      "0  Student1  85.0     90.0     88.0\n",
      "1  Student2  78.0     85.0     92.0\n",
      "2  Student3  92.0     88.0     78.0\n",
      "3  Student4  89.0     94.0     87.0\n",
      "4  Student5  76.0     82.0     90.0\n",
      "5    parvez  92.0     95.0     98.0\n",
      "6   charwak  90.0     80.0     95.0\n",
      "7      Abhi  85.0     95.0     75.0\n",
      "Enter student's name (or 'q' to quit): q\n",
      "\n",
      "Data saved successfully to Student_scores.xlsx\n"
     ]
    }
   ],
   "source": [
    "import pandas as pd\n",
    "\n",
    "def update_student_scores(file_path):\n",
    "    try:\n",
    "        df = pd.read_excel(file_path)\n",
    "    except FileNotFoundError:\n",
    "        \n",
    "        df = pd.DataFrame(columns=['Name', 'Math', 'English', 'Science'])\n",
    "\n",
    "    print(\"Current Data:\")\n",
    "    print(df)\n",
    "\n",
    "    while True:\n",
    "    \n",
    "        try:\n",
    "            name = input(\"Enter student's name (or 'q' to quit): \")\n",
    "            if name.lower() == 'q':\n",
    "                break  \n",
    "\n",
    "            math_score = float(input(\"Enter Math score for {}: \".format(name)))\n",
    "            english_score = float(input(\"Enter English score for {}: \".format(name)))\n",
    "            science_score = float(input(\"Enter Science score for {}: \".format(name)))\n",
    "        except ValueError:\n",
    "            print(\"Invalid input. Please enter numbers for scores.\")\n",
    "            continue \n",
    "\n",
    "       \n",
    "        new_data = {'Name': [name], 'Math': [math_score], 'English': [english_score], 'Science': [science_score]}\n",
    "\n",
    "       \n",
    "        df = pd.concat([df, pd.DataFrame(new_data)], ignore_index=True)\n",
    "\n",
    "        print(\"\\nUpdated Data:\")\n",
    "        print(df)\n",
    "\n",
    "    \n",
    "    if len(df) > len(pd.read_excel(file_path)):  \n",
    "        df.to_excel(file_path, index=False)\n",
    "        print(\"\\nData saved successfully to {}\".format(file_path))\n",
    "\n",
    "if __name__ == \"__main__\":\n",
    "    \n",
    "    excel_file_path = 'Student_scores.xlsx'\n",
    "    update_student_scores(excel_file_path)\n"
   ]
  },
  {
   "cell_type": "code",
   "execution_count": 5,
   "id": "c70d386d",
   "metadata": {},
   "outputs": [
    {
     "data": {
      "text/html": [
       "<div>\n",
       "<style scoped>\n",
       "    .dataframe tbody tr th:only-of-type {\n",
       "        vertical-align: middle;\n",
       "    }\n",
       "\n",
       "    .dataframe tbody tr th {\n",
       "        vertical-align: top;\n",
       "    }\n",
       "\n",
       "    .dataframe thead th {\n",
       "        text-align: right;\n",
       "    }\n",
       "</style>\n",
       "<table border=\"1\" class=\"dataframe\">\n",
       "  <thead>\n",
       "    <tr style=\"text-align: right;\">\n",
       "      <th></th>\n",
       "      <th>Name</th>\n",
       "      <th>Math</th>\n",
       "      <th>English</th>\n",
       "      <th>Science</th>\n",
       "    </tr>\n",
       "  </thead>\n",
       "  <tbody>\n",
       "    <tr>\n",
       "      <th>0</th>\n",
       "      <td>Student1</td>\n",
       "      <td>85</td>\n",
       "      <td>90</td>\n",
       "      <td>88</td>\n",
       "    </tr>\n",
       "    <tr>\n",
       "      <th>1</th>\n",
       "      <td>Student2</td>\n",
       "      <td>78</td>\n",
       "      <td>85</td>\n",
       "      <td>92</td>\n",
       "    </tr>\n",
       "    <tr>\n",
       "      <th>2</th>\n",
       "      <td>Student3</td>\n",
       "      <td>92</td>\n",
       "      <td>88</td>\n",
       "      <td>78</td>\n",
       "    </tr>\n",
       "    <tr>\n",
       "      <th>3</th>\n",
       "      <td>Student4</td>\n",
       "      <td>89</td>\n",
       "      <td>94</td>\n",
       "      <td>87</td>\n",
       "    </tr>\n",
       "    <tr>\n",
       "      <th>4</th>\n",
       "      <td>Student5</td>\n",
       "      <td>76</td>\n",
       "      <td>82</td>\n",
       "      <td>90</td>\n",
       "    </tr>\n",
       "    <tr>\n",
       "      <th>5</th>\n",
       "      <td>parvez</td>\n",
       "      <td>92</td>\n",
       "      <td>95</td>\n",
       "      <td>98</td>\n",
       "    </tr>\n",
       "    <tr>\n",
       "      <th>6</th>\n",
       "      <td>charwak</td>\n",
       "      <td>90</td>\n",
       "      <td>80</td>\n",
       "      <td>95</td>\n",
       "    </tr>\n",
       "    <tr>\n",
       "      <th>7</th>\n",
       "      <td>Abhi</td>\n",
       "      <td>85</td>\n",
       "      <td>95</td>\n",
       "      <td>75</td>\n",
       "    </tr>\n",
       "  </tbody>\n",
       "</table>\n",
       "</div>"
      ],
      "text/plain": [
       "       Name  Math  English  Science\n",
       "0  Student1    85       90       88\n",
       "1  Student2    78       85       92\n",
       "2  Student3    92       88       78\n",
       "3  Student4    89       94       87\n",
       "4  Student5    76       82       90\n",
       "5    parvez    92       95       98\n",
       "6   charwak    90       80       95\n",
       "7      Abhi    85       95       75"
      ]
     },
     "execution_count": 5,
     "metadata": {},
     "output_type": "execute_result"
    }
   ],
   "source": [
    "pd.read_excel(\"Student_scores.xlsx\")"
   ]
  },
  {
   "cell_type": "code",
   "execution_count": null,
   "id": "bfebcf6d",
   "metadata": {},
   "outputs": [],
   "source": []
  }
 ],
 "metadata": {
  "kernelspec": {
   "display_name": "Python 3 (ipykernel)",
   "language": "python",
   "name": "python3"
  },
  "language_info": {
   "codemirror_mode": {
    "name": "ipython",
    "version": 3
   },
   "file_extension": ".py",
   "mimetype": "text/x-python",
   "name": "python",
   "nbconvert_exporter": "python",
   "pygments_lexer": "ipython3",
   "version": "3.11.5"
  }
 },
 "nbformat": 4,
 "nbformat_minor": 5
}
